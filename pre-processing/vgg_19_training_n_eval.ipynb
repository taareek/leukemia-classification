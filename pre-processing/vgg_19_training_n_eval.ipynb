{
  "nbformat": 4,
  "nbformat_minor": 0,
  "metadata": {
    "colab": {
      "provenance": []
    },
    "kernelspec": {
      "name": "python3",
      "display_name": "Python 3"
    },
    "language_info": {
      "name": "python"
    },
    "accelerator": "GPU",
    "gpuClass": "standard",
    "widgets": {
      "application/vnd.jupyter.widget-state+json": {
        "c765d283c1cd4d888bb38371259048b5": {
          "model_module": "@jupyter-widgets/controls",
          "model_name": "HBoxModel",
          "model_module_version": "1.5.0",
          "state": {
            "_dom_classes": [],
            "_model_module": "@jupyter-widgets/controls",
            "_model_module_version": "1.5.0",
            "_model_name": "HBoxModel",
            "_view_count": null,
            "_view_module": "@jupyter-widgets/controls",
            "_view_module_version": "1.5.0",
            "_view_name": "HBoxView",
            "box_style": "",
            "children": [
              "IPY_MODEL_1296febba7b048c8a169c99149c5573d",
              "IPY_MODEL_b2fc02d1af6749a298a78a88a4db40d3",
              "IPY_MODEL_4c1421df14574310b7d80e121aa5810a"
            ],
            "layout": "IPY_MODEL_735f952cf4c64a259c61a4dcbdc745f6"
          }
        },
        "1296febba7b048c8a169c99149c5573d": {
          "model_module": "@jupyter-widgets/controls",
          "model_name": "HTMLModel",
          "model_module_version": "1.5.0",
          "state": {
            "_dom_classes": [],
            "_model_module": "@jupyter-widgets/controls",
            "_model_module_version": "1.5.0",
            "_model_name": "HTMLModel",
            "_view_count": null,
            "_view_module": "@jupyter-widgets/controls",
            "_view_module_version": "1.5.0",
            "_view_name": "HTMLView",
            "description": "",
            "description_tooltip": null,
            "layout": "IPY_MODEL_013ac5893cb54b99a82338794e5a8b25",
            "placeholder": "​",
            "style": "IPY_MODEL_0787ed2bc5554c978935d2589987fc02",
            "value": "100%"
          }
        },
        "b2fc02d1af6749a298a78a88a4db40d3": {
          "model_module": "@jupyter-widgets/controls",
          "model_name": "FloatProgressModel",
          "model_module_version": "1.5.0",
          "state": {
            "_dom_classes": [],
            "_model_module": "@jupyter-widgets/controls",
            "_model_module_version": "1.5.0",
            "_model_name": "FloatProgressModel",
            "_view_count": null,
            "_view_module": "@jupyter-widgets/controls",
            "_view_module_version": "1.5.0",
            "_view_name": "ProgressView",
            "bar_style": "success",
            "description": "",
            "description_tooltip": null,
            "layout": "IPY_MODEL_202c3990d428475283ee15dfb229198f",
            "max": 574673361,
            "min": 0,
            "orientation": "horizontal",
            "style": "IPY_MODEL_2ca3354b8c834ab68c1d64bc0a7f677d",
            "value": 574673361
          }
        },
        "4c1421df14574310b7d80e121aa5810a": {
          "model_module": "@jupyter-widgets/controls",
          "model_name": "HTMLModel",
          "model_module_version": "1.5.0",
          "state": {
            "_dom_classes": [],
            "_model_module": "@jupyter-widgets/controls",
            "_model_module_version": "1.5.0",
            "_model_name": "HTMLModel",
            "_view_count": null,
            "_view_module": "@jupyter-widgets/controls",
            "_view_module_version": "1.5.0",
            "_view_name": "HTMLView",
            "description": "",
            "description_tooltip": null,
            "layout": "IPY_MODEL_7d9ac24ec5af4b7fbda79704612d04b7",
            "placeholder": "​",
            "style": "IPY_MODEL_f5d5644aaeb14671993c20afd7649355",
            "value": " 548M/548M [00:06&lt;00:00, 77.9MB/s]"
          }
        },
        "735f952cf4c64a259c61a4dcbdc745f6": {
          "model_module": "@jupyter-widgets/base",
          "model_name": "LayoutModel",
          "model_module_version": "1.2.0",
          "state": {
            "_model_module": "@jupyter-widgets/base",
            "_model_module_version": "1.2.0",
            "_model_name": "LayoutModel",
            "_view_count": null,
            "_view_module": "@jupyter-widgets/base",
            "_view_module_version": "1.2.0",
            "_view_name": "LayoutView",
            "align_content": null,
            "align_items": null,
            "align_self": null,
            "border": null,
            "bottom": null,
            "display": null,
            "flex": null,
            "flex_flow": null,
            "grid_area": null,
            "grid_auto_columns": null,
            "grid_auto_flow": null,
            "grid_auto_rows": null,
            "grid_column": null,
            "grid_gap": null,
            "grid_row": null,
            "grid_template_areas": null,
            "grid_template_columns": null,
            "grid_template_rows": null,
            "height": null,
            "justify_content": null,
            "justify_items": null,
            "left": null,
            "margin": null,
            "max_height": null,
            "max_width": null,
            "min_height": null,
            "min_width": null,
            "object_fit": null,
            "object_position": null,
            "order": null,
            "overflow": null,
            "overflow_x": null,
            "overflow_y": null,
            "padding": null,
            "right": null,
            "top": null,
            "visibility": null,
            "width": null
          }
        },
        "013ac5893cb54b99a82338794e5a8b25": {
          "model_module": "@jupyter-widgets/base",
          "model_name": "LayoutModel",
          "model_module_version": "1.2.0",
          "state": {
            "_model_module": "@jupyter-widgets/base",
            "_model_module_version": "1.2.0",
            "_model_name": "LayoutModel",
            "_view_count": null,
            "_view_module": "@jupyter-widgets/base",
            "_view_module_version": "1.2.0",
            "_view_name": "LayoutView",
            "align_content": null,
            "align_items": null,
            "align_self": null,
            "border": null,
            "bottom": null,
            "display": null,
            "flex": null,
            "flex_flow": null,
            "grid_area": null,
            "grid_auto_columns": null,
            "grid_auto_flow": null,
            "grid_auto_rows": null,
            "grid_column": null,
            "grid_gap": null,
            "grid_row": null,
            "grid_template_areas": null,
            "grid_template_columns": null,
            "grid_template_rows": null,
            "height": null,
            "justify_content": null,
            "justify_items": null,
            "left": null,
            "margin": null,
            "max_height": null,
            "max_width": null,
            "min_height": null,
            "min_width": null,
            "object_fit": null,
            "object_position": null,
            "order": null,
            "overflow": null,
            "overflow_x": null,
            "overflow_y": null,
            "padding": null,
            "right": null,
            "top": null,
            "visibility": null,
            "width": null
          }
        },
        "0787ed2bc5554c978935d2589987fc02": {
          "model_module": "@jupyter-widgets/controls",
          "model_name": "DescriptionStyleModel",
          "model_module_version": "1.5.0",
          "state": {
            "_model_module": "@jupyter-widgets/controls",
            "_model_module_version": "1.5.0",
            "_model_name": "DescriptionStyleModel",
            "_view_count": null,
            "_view_module": "@jupyter-widgets/base",
            "_view_module_version": "1.2.0",
            "_view_name": "StyleView",
            "description_width": ""
          }
        },
        "202c3990d428475283ee15dfb229198f": {
          "model_module": "@jupyter-widgets/base",
          "model_name": "LayoutModel",
          "model_module_version": "1.2.0",
          "state": {
            "_model_module": "@jupyter-widgets/base",
            "_model_module_version": "1.2.0",
            "_model_name": "LayoutModel",
            "_view_count": null,
            "_view_module": "@jupyter-widgets/base",
            "_view_module_version": "1.2.0",
            "_view_name": "LayoutView",
            "align_content": null,
            "align_items": null,
            "align_self": null,
            "border": null,
            "bottom": null,
            "display": null,
            "flex": null,
            "flex_flow": null,
            "grid_area": null,
            "grid_auto_columns": null,
            "grid_auto_flow": null,
            "grid_auto_rows": null,
            "grid_column": null,
            "grid_gap": null,
            "grid_row": null,
            "grid_template_areas": null,
            "grid_template_columns": null,
            "grid_template_rows": null,
            "height": null,
            "justify_content": null,
            "justify_items": null,
            "left": null,
            "margin": null,
            "max_height": null,
            "max_width": null,
            "min_height": null,
            "min_width": null,
            "object_fit": null,
            "object_position": null,
            "order": null,
            "overflow": null,
            "overflow_x": null,
            "overflow_y": null,
            "padding": null,
            "right": null,
            "top": null,
            "visibility": null,
            "width": null
          }
        },
        "2ca3354b8c834ab68c1d64bc0a7f677d": {
          "model_module": "@jupyter-widgets/controls",
          "model_name": "ProgressStyleModel",
          "model_module_version": "1.5.0",
          "state": {
            "_model_module": "@jupyter-widgets/controls",
            "_model_module_version": "1.5.0",
            "_model_name": "ProgressStyleModel",
            "_view_count": null,
            "_view_module": "@jupyter-widgets/base",
            "_view_module_version": "1.2.0",
            "_view_name": "StyleView",
            "bar_color": null,
            "description_width": ""
          }
        },
        "7d9ac24ec5af4b7fbda79704612d04b7": {
          "model_module": "@jupyter-widgets/base",
          "model_name": "LayoutModel",
          "model_module_version": "1.2.0",
          "state": {
            "_model_module": "@jupyter-widgets/base",
            "_model_module_version": "1.2.0",
            "_model_name": "LayoutModel",
            "_view_count": null,
            "_view_module": "@jupyter-widgets/base",
            "_view_module_version": "1.2.0",
            "_view_name": "LayoutView",
            "align_content": null,
            "align_items": null,
            "align_self": null,
            "border": null,
            "bottom": null,
            "display": null,
            "flex": null,
            "flex_flow": null,
            "grid_area": null,
            "grid_auto_columns": null,
            "grid_auto_flow": null,
            "grid_auto_rows": null,
            "grid_column": null,
            "grid_gap": null,
            "grid_row": null,
            "grid_template_areas": null,
            "grid_template_columns": null,
            "grid_template_rows": null,
            "height": null,
            "justify_content": null,
            "justify_items": null,
            "left": null,
            "margin": null,
            "max_height": null,
            "max_width": null,
            "min_height": null,
            "min_width": null,
            "object_fit": null,
            "object_position": null,
            "order": null,
            "overflow": null,
            "overflow_x": null,
            "overflow_y": null,
            "padding": null,
            "right": null,
            "top": null,
            "visibility": null,
            "width": null
          }
        },
        "f5d5644aaeb14671993c20afd7649355": {
          "model_module": "@jupyter-widgets/controls",
          "model_name": "DescriptionStyleModel",
          "model_module_version": "1.5.0",
          "state": {
            "_model_module": "@jupyter-widgets/controls",
            "_model_module_version": "1.5.0",
            "_model_name": "DescriptionStyleModel",
            "_view_count": null,
            "_view_module": "@jupyter-widgets/base",
            "_view_module_version": "1.2.0",
            "_view_name": "StyleView",
            "description_width": ""
          }
        }
      }
    }
  },
  "cells": [
    {
      "cell_type": "code",
      "source": [
        "# getting drive\n",
        "from google.colab import drive\n",
        "drive.mount('/content/drive')"
      ],
      "metadata": {
        "colab": {
          "base_uri": "https://localhost:8080/"
        },
        "id": "CZHDIoVmj6Zb",
        "outputId": "75afbda5-db4d-40e6-cf44-801d2ba869d5"
      },
      "execution_count": null,
      "outputs": [
        {
          "output_type": "stream",
          "name": "stdout",
          "text": [
            "Mounted at /content/drive\n"
          ]
        }
      ]
    },
    {
      "cell_type": "markdown",
      "source": [
        "**loading dataset**"
      ],
      "metadata": {
        "id": "mOMdHsSUkkt2"
      }
    },
    {
      "cell_type": "code",
      "source": [
        "import torch\n",
        "import torchvision\n",
        "import torchvision.transforms as transforms\n",
        "import os\n",
        "import numpy as np\n",
        "import matplotlib.pyplot as plt"
      ],
      "metadata": {
        "id": "iEeKRLXIkct6"
      },
      "execution_count": null,
      "outputs": []
    },
    {
      "cell_type": "code",
      "source": [
        "# checking for CUDA\n",
        "if torch.cuda.is_available():\n",
        "  print(\"GPU !\")\n",
        "else:\n",
        "  print(\"CPU !\")"
      ],
      "metadata": {
        "colab": {
          "base_uri": "https://localhost:8080/"
        },
        "id": "jY84P2-Lkw3a",
        "outputId": "4aa348d7-9043-40a9-bd1e-cc652390a035"
      },
      "execution_count": null,
      "outputs": [
        {
          "output_type": "stream",
          "name": "stdout",
          "text": [
            "GPU !\n"
          ]
        }
      ]
    },
    {
      "cell_type": "code",
      "source": [
        "# dataset path\n",
        "# without pre-processing\n",
        "# data_path = \"/content/drive/MyDrive/Leukemia/clahe_train\"\n",
        "data_path = \"/content/drive/MyDrive/Leukemia/hsv_aug_s\""
      ],
      "metadata": {
        "id": "giCU1Ue7lKVn"
      },
      "execution_count": null,
      "outputs": []
    },
    {
      "cell_type": "code",
      "source": [
        "# defining transformation\n",
        "mean = [0.5, 0.5, 0.5]\n",
        "std = [0.5, 0.5, 0.5]\n",
        "\n",
        "transforms = transforms.Compose([\n",
        "    transforms.Resize((224,224)),\n",
        "    # transforms.RandomHorizontalFlip(p=0.25),\n",
        "    # transforms.RandomVerticalFlip(p=0.25),\n",
        "    # transforms.RandomRotation((0,180)),\n",
        "    # transforms.CenterCrop(150),\n",
        "    # transforms.Resize((224,224)),\n",
        "    transforms.ToTensor(),\n",
        "    transforms.Normalize(torch.Tensor(mean), torch.Tensor(std))\n",
        "                        ])"
      ],
      "metadata": {
        "id": "8gzJwkS4l1zs"
      },
      "execution_count": null,
      "outputs": []
    },
    {
      "cell_type": "code",
      "source": [
        "# performing transforming into our dataset\n",
        "dataset = torchvision.datasets.ImageFolder(root= data_path, transform= transforms)"
      ],
      "metadata": {
        "id": "TbCoJxxBl7ey"
      },
      "execution_count": null,
      "outputs": []
    },
    {
      "cell_type": "code",
      "source": [
        "print(\"Total number of samples: \", len(dataset))"
      ],
      "metadata": {
        "colab": {
          "base_uri": "https://localhost:8080/"
        },
        "id": "W-NlN_iVmF2u",
        "outputId": "bf2be0fc-2408-4013-9cab-ac784f94a903"
      },
      "execution_count": null,
      "outputs": [
        {
          "output_type": "stream",
          "name": "stdout",
          "text": [
            "Total number of samples:  20000\n"
          ]
        }
      ]
    },
    {
      "cell_type": "code",
      "source": [
        "# splitting dataset and visualize\n",
        "from torchvision import datasets\n",
        "import torchvision.transforms as transforms\n",
        "from torch.utils.data.sampler import SubsetRandomSampler"
      ],
      "metadata": {
        "id": "4rnrkUy4mNFW"
      },
      "execution_count": null,
      "outputs": []
    },
    {
      "cell_type": "code",
      "source": [
        "num_workers = 0\n",
        "batch_size = 16\n",
        "\n",
        "# obtain training indices that will be used for validation\n",
        "valid_size= 0.2 # taking 20% data as our test set\n",
        "num_data = len(dataset)\n",
        "indices = list(range(num_data))\n",
        "np.random.shuffle(indices)\n",
        "split = int(np.floor(valid_size * num_data))\n",
        "train_idx, test_idx = indices[split:], indices[:split]\n",
        "\n",
        "print('After splitting train data: ',len(train_idx))\n",
        "print('After splitting test data: ',len(test_idx))\n",
        "\n",
        "# define samplers for obtaining training and test batches\n",
        "train_sampler = SubsetRandomSampler(train_idx)\n",
        "test_sampler = SubsetRandomSampler(test_idx)\n",
        "\n",
        "# prepare data loaders (combine dataset and sampler)\n",
        "train_loader = torch.utils.data.DataLoader(dataset, batch_size=batch_size,\n",
        "    sampler=train_sampler, num_workers=num_workers)\n",
        "test_loader = torch.utils.data.DataLoader(dataset, batch_size=batch_size,\n",
        "    sampler=test_sampler, num_workers=num_workers)\n",
        "# image classes\n",
        "classes = ['HEM', 'ALL']"
      ],
      "metadata": {
        "colab": {
          "base_uri": "https://localhost:8080/"
        },
        "id": "184TKJ8smTNx",
        "outputId": "10b0d1ab-0a2e-48ff-8470-5b254f00a317"
      },
      "execution_count": null,
      "outputs": [
        {
          "output_type": "stream",
          "name": "stdout",
          "text": [
            "After splitting train data:  16000\n",
            "After splitting test data:  4000\n"
          ]
        }
      ]
    },
    {
      "cell_type": "code",
      "source": [
        "%matplotlib inline\n",
        "\n",
        "# helper function to display an image\n",
        "def imshow(img):\n",
        "    img = img / 2 + 0.5  # unnormalize\n",
        "    plt.imshow(np.transpose(img, (1, 2, 0)))  # convert from Tensor image"
      ],
      "metadata": {
        "id": "cJdyH8q_mViM"
      },
      "execution_count": null,
      "outputs": []
    },
    {
      "cell_type": "code",
      "source": [
        "# obtain one batch of training images\n",
        "dataiter = iter(train_loader)\n",
        "images, labels = dataiter.__next__()\n",
        "images = images.numpy() # Converted Image to numpy\n",
        "\n",
        "# plot the images in the batch, along with the corresponding labels\n",
        "\n",
        "fig = plt.figure(figsize=(25, 4))\n",
        "for idx in np.arange(16):\n",
        "    ax = fig.add_subplot(2, 16/2, idx+1, xticks=[], yticks=[])\n",
        "    imshow(images[idx])\n",
        "    ax.set_title(classes[labels[idx]])"
      ],
      "metadata": {
        "colab": {
          "base_uri": "https://localhost:8080/",
          "height": 268
        },
        "id": "hkmvb-DimdLB",
        "outputId": "8c6ab46e-1132-4a7b-b12b-dbc817ff00a0"
      },
      "execution_count": null,
      "outputs": [
        {
          "output_type": "display_data",
          "data": {
            "text/plain": [
              "<Figure size 1800x288 with 16 Axes>"
            ],
            "image/png": "[encoded data removed]"
          },
          "metadata": {}
        }
      ]
    },
    {
      "cell_type": "code",
      "source": [
        "images[1].shape"
      ],
      "metadata": {
        "colab": {
          "base_uri": "https://localhost:8080/"
        },
        "id": "9Ttt0sL_mfRr",
        "outputId": "2dd4dc6e-0cf4-4445-c599-4b60788f006a"
      },
      "execution_count": null,
      "outputs": [
        {
          "output_type": "execute_result",
          "data": {
            "text/plain": [
              "(3, 224, 224)"
            ]
          },
          "metadata": {},
          "execution_count": 13
        }
      ]
    },
    {
      "cell_type": "code",
      "source": [
        "# Taking vgg19 model\n",
        "from torchvision import models\n",
        "vgg19 = models.vgg19(weights='IMAGENET1K_V1')  #pretrained=True"
      ],
      "metadata": {
        "id": "353wSFsEnquV",
        "colab": {
          "base_uri": "https://localhost:8080/",
          "height": 67,
          "referenced_widgets": [
            "c765d283c1cd4d888bb38371259048b5",
            "1296febba7b048c8a169c99149c5573d",
            "b2fc02d1af6749a298a78a88a4db40d3",
            "4c1421df14574310b7d80e121aa5810a",
            "735f952cf4c64a259c61a4dcbdc745f6",
            "013ac5893cb54b99a82338794e5a8b25",
            "0787ed2bc5554c978935d2589987fc02",
            "202c3990d428475283ee15dfb229198f",
            "2ca3354b8c834ab68c1d64bc0a7f677d",
            "7d9ac24ec5af4b7fbda79704612d04b7",
            "f5d5644aaeb14671993c20afd7649355"
          ]
        },
        "outputId": "f0e66fed-3c43-4d5d-a3c5-4d20b794ba09"
      },
      "execution_count": null,
      "outputs": [
        {
          "output_type": "stream",
          "name": "stderr",
          "text": [
            "Downloading: \"https://download.pytorch.org/models/vgg19-dcbb9e9d.pth\" to /root/.cache/torch/hub/checkpoints/vgg19-dcbb9e9d.pth\n"
          ]
        },
        {
          "output_type": "display_data",
          "data": {
            "text/plain": [
              "  0%|          | 0.00/548M [00:00<?, ?B/s]"
            ],
            "application/vnd.jupyter.widget-view+json": {
              "version_major": 2,
              "version_minor": 0,
              "model_id": "c765d283c1cd4d888bb38371259048b5"
            }
          },
          "metadata": {}
        }
      ]
    },
    {
      "cell_type": "code",
      "source": [
        "import torch.nn as nn\n",
        "import torch.nn.functional as F\n",
        "\n",
        "# change the number of classes\n",
        "vgg19.classifier[2] = nn.Dropout(p= 0.5, inplace= False)\n",
        "vgg19.classifier[3] = nn.Linear(4096, 1024)\n",
        "vgg19.classifier[5] = nn.Dropout(p= 0.25, inplace= False)\n",
        "vgg19.classifier[6] = nn.Linear(1024, 2)\n",
        "\n",
        "# freeze convolution weights\n",
        "for param in vgg19.features.parameters():\n",
        "    param.requires_grad = False"
      ],
      "metadata": {
        "id": "wouPcQTLn8To"
      },
      "execution_count": null,
      "outputs": []
    },
    {
      "cell_type": "code",
      "source": [
        "# defining modified vgg 19 as our model\n",
        "model = vgg19\n",
        "# moving model to GPU\n",
        "if torch.cuda.is_available():\n",
        "  model.cuda()"
      ],
      "metadata": {
        "id": "HyQvIpehohhU"
      },
      "execution_count": null,
      "outputs": []
    },
    {
      "cell_type": "code",
      "source": [
        "from torchvision import models\n",
        "from torchsummary import summary\n",
        "summary(model, (3, 224, 224))"
      ],
      "metadata": {
        "colab": {
          "base_uri": "https://localhost:8080/"
        },
        "id": "lpbHAa4Poj4a",
        "outputId": "01f2cf87-add5-4784-e0b8-04636a241e09"
      },
      "execution_count": null,
      "outputs": [
        {
          "output_type": "stream",
          "name": "stdout",
          "text": [
            "----------------------------------------------------------------\n",
            "        Layer (type)               Output Shape         Param #\n",
            "================================================================\n",
            "            Conv2d-1         [-1, 64, 224, 224]           1,792\n",
            "              ReLU-2         [-1, 64, 224, 224]               0\n",
            "            Conv2d-3         [-1, 64, 224, 224]          36,928\n",
            "              ReLU-4         [-1, 64, 224, 224]               0\n",
            "         MaxPool2d-5         [-1, 64, 112, 112]               0\n",
            "            Conv2d-6        [-1, 128, 112, 112]          73,856\n",
            "              ReLU-7        [-1, 128, 112, 112]               0\n",
            "            Conv2d-8        [-1, 128, 112, 112]         147,584\n",
            "              ReLU-9        [-1, 128, 112, 112]               0\n",
            "        MaxPool2d-10          [-1, 128, 56, 56]               0\n",
            "           Conv2d-11          [-1, 256, 56, 56]         295,168\n",
            "             ReLU-12          [-1, 256, 56, 56]               0\n",
            "           Conv2d-13          [-1, 256, 56, 56]         590,080\n",
            "             ReLU-14          [-1, 256, 56, 56]               0\n",
            "           Conv2d-15          [-1, 256, 56, 56]         590,080\n",
            "             ReLU-16          [-1, 256, 56, 56]               0\n",
            "           Conv2d-17          [-1, 256, 56, 56]         590,080\n",
            "             ReLU-18          [-1, 256, 56, 56]               0\n",
            "        MaxPool2d-19          [-1, 256, 28, 28]               0\n",
            "           Conv2d-20          [-1, 512, 28, 28]       1,180,160\n",
            "             ReLU-21          [-1, 512, 28, 28]               0\n",
            "           Conv2d-22          [-1, 512, 28, 28]       2,359,808\n",
            "             ReLU-23          [-1, 512, 28, 28]               0\n",
            "           Conv2d-24          [-1, 512, 28, 28]       2,359,808\n",
            "             ReLU-25          [-1, 512, 28, 28]               0\n",
            "           Conv2d-26          [-1, 512, 28, 28]       2,359,808\n",
            "             ReLU-27          [-1, 512, 28, 28]               0\n",
            "        MaxPool2d-28          [-1, 512, 14, 14]               0\n",
            "           Conv2d-29          [-1, 512, 14, 14]       2,359,808\n",
            "             ReLU-30          [-1, 512, 14, 14]               0\n",
            "           Conv2d-31          [-1, 512, 14, 14]       2,359,808\n",
            "             ReLU-32          [-1, 512, 14, 14]               0\n",
            "           Conv2d-33          [-1, 512, 14, 14]       2,359,808\n",
            "             ReLU-34          [-1, 512, 14, 14]               0\n",
            "           Conv2d-35          [-1, 512, 14, 14]       2,359,808\n",
            "             ReLU-36          [-1, 512, 14, 14]               0\n",
            "        MaxPool2d-37            [-1, 512, 7, 7]               0\n",
            "AdaptiveAvgPool2d-38            [-1, 512, 7, 7]               0\n",
            "           Linear-39                 [-1, 4096]     102,764,544\n",
            "             ReLU-40                 [-1, 4096]               0\n",
            "          Dropout-41                 [-1, 4096]               0\n",
            "           Linear-42                 [-1, 1024]       4,195,328\n",
            "             ReLU-43                 [-1, 1024]               0\n",
            "          Dropout-44                 [-1, 1024]               0\n",
            "           Linear-45                    [-1, 2]           2,050\n",
            "================================================================\n",
            "Total params: 126,986,306\n",
            "Trainable params: 106,961,922\n",
            "Non-trainable params: 20,024,384\n",
            "----------------------------------------------------------------\n",
            "Input size (MB): 0.57\n",
            "Forward/backward pass size (MB): 238.61\n",
            "Params size (MB): 484.41\n",
            "Estimated Total Size (MB): 723.60\n",
            "----------------------------------------------------------------\n"
          ]
        }
      ]
    },
    {
      "cell_type": "code",
      "source": [
        "import torch.optim as optim\n",
        "# optimizer\n",
        "optimizer = optim.SGD(model.classifier.parameters(), lr=0.001, momentum=0.9, weight_decay= 5e-4 ) #weight_decay= 5e-4\n",
        "# optimizer = optim.Adam(model.classifier.parameters(), lr = 0.001, betas= (0.9, 0.999), eps= 1e-8, weight_decay=0)\n",
        "# loss function\n",
        "criterion = nn.CrossEntropyLoss()"
      ],
      "metadata": {
        "id": "PutL7FJmomDi"
      },
      "execution_count": null,
      "outputs": []
    },
    {
      "cell_type": "markdown",
      "source": [],
      "metadata": {
        "id": "U1I3jrYvpCW5"
      }
    },
    {
      "cell_type": "code",
      "source": [
        "# train for some epochs\n",
        "# number of epochs to train the model\n",
        "n_epochs = 5\n",
        "\n",
        "# using test set as validation set\n",
        "valid_loader = test_loader\n",
        "\n",
        "valid_loss_min = np.Inf # track change in validation loss\n",
        "\n",
        "valid_list= []  # stores validation losses\n",
        "train_list= []  # stores train losses\n",
        "\n",
        "valid_acc = [] # store validation accuracy\n",
        "train_acc = [] # store train accuracy\n",
        "\n",
        "for epoch in range(1, n_epochs+1):\n",
        "\n",
        "    # keep track of training, validation loss and accuracy\n",
        "    train_loss = 0.0\n",
        "    valid_loss = 0.0\n",
        "    train_corrects = 0\n",
        "    val_corrects = 0\n",
        "\n",
        "    # trianing the model\n",
        "    model.train()\n",
        "    for data, target in train_loader:\n",
        "        # move tensors to GPU if CUDA is available\n",
        "        if torch.cuda.is_available():\n",
        "            data, target = data.cuda(), target.cuda()\n",
        "\n",
        "        optimizer.zero_grad()\n",
        "        output = model(data)\n",
        "        _,preds = torch.max(output, 1)\n",
        "        loss = criterion(output, target)\n",
        "        loss.backward()\n",
        "        optimizer.step()\n",
        "        train_loss += loss.item()*data.size(0)\n",
        "        train_corrects += torch.sum(preds == target.data)\n",
        "\n",
        "\n",
        "    # validate the model\n",
        "    model.eval()\n",
        "    for data, target in valid_loader:\n",
        "        # move tensors to GPU if CUDA is available\n",
        "        if torch.cuda.is_available():\n",
        "            data, target = data.cuda(), target.cuda()\n",
        "\n",
        "        output = model(data)\n",
        "        _,preds = torch.max(output, 1)\n",
        "        loss = criterion(output, target)\n",
        "        valid_loss += loss.item()*data.size(0)\n",
        "        val_corrects += torch.sum(preds == target.data)\n",
        "\n",
        "    # calculate average losses\n",
        "    train_loss = train_loss/len(train_loader.sampler)\n",
        "    valid_loss = valid_loss/len(valid_loader.sampler)\n",
        "    # calculate accuracy\n",
        "    t_acc = train_corrects/len(train_loader.sampler)\n",
        "    v_acc = val_corrects/len(valid_loader.sampler)\n",
        "\n",
        "    # print training/validation statistics\n",
        "    print('Epoch: {} \\tTraining Loss: {:.6f} \\tValidation Loss: {:.6f} \\tTrain Acc: {:4f} \\tValidation Acc: {:4f}'.format(\n",
        "        epoch, train_loss, valid_loss, t_acc, v_acc))\n",
        "\n",
        "    # Using Schedular step\n",
        "    # scheduler.step()\n",
        "\n",
        "    # save model if validation loss has decreased\n",
        "    if valid_loss <= valid_loss_min:\n",
        "        print('Validation loss decreased ({:.6f} --> {:.6f}).  Saving model ...'.format(\n",
        "        valid_loss_min,\n",
        "        valid_loss))\n",
        "        torch.save(model.state_dict(), '/content/drive/MyDrive/Leukemia/label_noise/lk_final_20k_hsv_vgg19.pt')\n",
        "        valid_loss_min = valid_loss\n",
        "\n",
        "    #storing train and validation looses\n",
        "    train_list.append(train_loss)\n",
        "    valid_list.append(valid_loss)\n",
        "    # storing train and validartion accuracy\n",
        "    train_acc.append(t_acc)\n",
        "    valid_acc.append(v_acc)"
      ],
      "metadata": {
        "id": "bHf1po7IPGUq",
        "colab": {
          "base_uri": "https://localhost:8080/"
        },
        "outputId": "f5c6a3f3-4afc-49b4-d5f9-bf3576935f24"
      },
      "execution_count": null,
      "outputs": [
        {
          "output_type": "stream",
          "name": "stdout",
          "text": [
            "Epoch: 1 \tTraining Loss: 0.281863 \tValidation Loss: 0.401467 \tTrain Acc: 0.877875 \tValidation Acc: 0.842250\n",
            "Validation loss decreased (inf --> 0.401467).  Saving model ...\n",
            "Epoch: 2 \tTraining Loss: 0.269601 \tValidation Loss: 0.388399 \tTrain Acc: 0.883875 \tValidation Acc: 0.832750\n",
            "Validation loss decreased (0.401467 --> 0.388399).  Saving model ...\n",
            "Epoch: 3 \tTraining Loss: 0.263427 \tValidation Loss: 0.376024 \tTrain Acc: 0.886938 \tValidation Acc: 0.848500\n",
            "Validation loss decreased (0.388399 --> 0.376024).  Saving model ...\n",
            "Epoch: 4 \tTraining Loss: 0.260474 \tValidation Loss: 0.383400 \tTrain Acc: 0.889188 \tValidation Acc: 0.846000\n",
            "Epoch: 5 \tTraining Loss: 0.258459 \tValidation Loss: 0.372208 \tTrain Acc: 0.889688 \tValidation Acc: 0.849750\n",
            "Validation loss decreased (0.376024 --> 0.372208).  Saving model ...\n"
          ]
        }
      ]
    },
    {
      "cell_type": "code",
      "source": [
        "# plotting the training and validation loss\n",
        "plt.plot(train_list, label='Training loss')\n",
        "plt.plot(valid_list, label='Validation loss')\n",
        "plt.legend()\n",
        "plt.savefig('/content/drive/MyDrive/Leukemia/pre_processing_experiments/validation_curv_org_aug_20k.png', dpi=300)\n",
        "plt.show()"
      ],
      "metadata": {
        "id": "cJXW--RKpkVD",
        "colab": {
          "base_uri": "https://localhost:8080/",
          "height": 265
        },
        "outputId": "272f81ce-3441-440d-daa5-01282b71a64b"
      },
      "execution_count": null,
      "outputs": [
        {
          "output_type": "display_data",
          "data": {
            "text/plain": [
              "<Figure size 432x288 with 1 Axes>"
            ],
            "image/png": "[encoded data removed]"
          },
          "metadata": {
            "needs_background": "light"
          }
        }
      ]
    },
    {
      "cell_type": "code",
      "source": [
        "train_acc = torch.tensor(train_acc, device= 'cpu')\n",
        "valid_acc = torch.tensor(valid_acc, device= 'cpu')"
      ],
      "metadata": {
        "id": "4xcI3dD90WNm"
      },
      "execution_count": null,
      "outputs": []
    },
    {
      "cell_type": "code",
      "source": [
        "# plotting the training and validation accuracy\n",
        "plt.plot(train_acc.cpu(), label='Training Accuracy')\n",
        "plt.plot(valid_acc, label='Validation Accuracy')\n",
        "plt.legend()\n",
        "plt.savefig('/content/drive/MyDrive/Leukemia/pre_processing_experiments/validation_acc_org_aug_20k.png', dpi=300)\n",
        "plt.show()"
      ],
      "metadata": {
        "id": "pgqoxDqz0WXK",
        "colab": {
          "base_uri": "https://localhost:8080/",
          "height": 265
        },
        "outputId": "501ea9b8-6a46-4071-b42f-240d93bf04bb"
      },
      "execution_count": null,
      "outputs": [
        {
          "output_type": "display_data",
          "data": {
            "text/plain": [
              "<Figure size 432x288 with 1 Axes>"
            ],
            "image/png": "[encoded data removed]"
          },
          "metadata": {
            "needs_background": "light"
          }
        }
      ]
    },
    {
      "cell_type": "code",
      "source": [
        "# load best model\n",
        "model.load_state_dict(torch.load('/content/drive/MyDrive/Leukemia/label_noise/lk_final_20k_hsv_vgg19.pt'))"
      ],
      "metadata": {
        "colab": {
          "base_uri": "https://localhost:8080/"
        },
        "id": "PCk4xbXN1rDA",
        "outputId": "d17f9bf5-3403-4d4b-f3f7-43209b04baac"
      },
      "execution_count": null,
      "outputs": [
        {
          "output_type": "execute_result",
          "data": {
            "text/plain": [
              "<All keys matched successfully>"
            ]
          },
          "metadata": {},
          "execution_count": 24
        }
      ]
    },
    {
      "cell_type": "code",
      "source": [
        "n_corrects= 0\n",
        "n_samples= 0\n",
        "\n",
        "y_test = []\n",
        "prediction = []\n",
        "model.eval()\n",
        "# iterate over test data\n",
        "for data, target in test_loader:\n",
        "    # move tensors to GPU if CUDA is available\n",
        "    if torch.cuda.is_available():\n",
        "        data, target = data.cuda(), target.cuda()\n",
        "    # forward pass: compute predicted outputs by passing inputs to the model\n",
        "    output = model(data)\n",
        "    label = target.detach().cpu().numpy()\n",
        "    y_test.append(label)\n",
        "    _, pred = torch.max(output, 1)\n",
        "    prediction.append(pred.detach().cpu().numpy())\n",
        "    n_corrects += (pred== target).sum().item()\n",
        "    n_samples += target.size(0)\n",
        "\n",
        "print(f'Overall accuracy {(n_corrects / n_samples)*100}%')"
      ],
      "metadata": {
        "id": "kwN9XOEU1rK9",
        "colab": {
          "base_uri": "https://localhost:8080/"
        },
        "outputId": "0d857625-e371-40de-db2a-88ce39f3bcfd"
      },
      "execution_count": null,
      "outputs": [
        {
          "output_type": "stream",
          "name": "stdout",
          "text": [
            "Overall accuracy 84.975%\n"
          ]
        }
      ]
    },
    {
      "cell_type": "code",
      "source": [
        "print(\"single batch labels: \", y_test[1])\n",
        "print(\"single batch prediction: \", prediction[1])"
      ],
      "metadata": {
        "id": "E_9cZ-Iz1sIc",
        "colab": {
          "base_uri": "https://localhost:8080/"
        },
        "outputId": "3d8b58a1-ea76-4fa0-bf51-73b2f4246815"
      },
      "execution_count": null,
      "outputs": [
        {
          "output_type": "stream",
          "name": "stdout",
          "text": [
            "single batch labels:  [0 0 0 0 1 0 0 0 0 1 1 0 1 1 1 0]\n",
            "single batch prediction:  [0 0 0 0 1 0 0 0 0 1 1 0 1 1 1 0]\n"
          ]
        }
      ]
    },
    {
      "cell_type": "code",
      "source": [
        "# import chain\n",
        "from itertools import chain\n",
        "# converting 2d list into 1d\n",
        "# using chain.from_iterables\n",
        "y_test_1 = list(chain.from_iterable(y_test))"
      ],
      "metadata": {
        "id": "uUUiv1uX0X0O"
      },
      "execution_count": null,
      "outputs": []
    },
    {
      "cell_type": "code",
      "source": [
        "# for predictions\n",
        "prediction_1 = list(chain.from_iterable(prediction))"
      ],
      "metadata": {
        "id": "BumG-u4B3jsn"
      },
      "execution_count": null,
      "outputs": []
    },
    {
      "cell_type": "code",
      "source": [
        "#Print overall accuracy\n",
        "from sklearn import metrics\n",
        "acc = metrics.accuracy_score(y_test_1, prediction_1)\n",
        "print (\"Accuracy = \", round(acc, 3))"
      ],
      "metadata": {
        "id": "LXV_tLeV0X9E",
        "colab": {
          "base_uri": "https://localhost:8080/"
        },
        "outputId": "059ba26a-aab0-4570-b5a7-7ba9df123299"
      },
      "execution_count": null,
      "outputs": [
        {
          "output_type": "stream",
          "name": "stdout",
          "text": [
            "Accuracy =  0.85\n"
          ]
        }
      ]
    },
    {
      "cell_type": "code",
      "source": [
        "# Compute Area Under the Receiver Operating Characteristic Curve (ROC AUC) from prediction scores\n",
        "from sklearn.metrics import roc_auc_score\n",
        "\n",
        "roc_auc = roc_auc_score(y_test_1, prediction_1)\n",
        "print(\"ROC-AUC score is: \", round(roc_auc, 3))"
      ],
      "metadata": {
        "id": "gqfH--dj0ez0",
        "colab": {
          "base_uri": "https://localhost:8080/"
        },
        "outputId": "6e966494-e89d-4bae-dd29-370edced2520"
      },
      "execution_count": null,
      "outputs": [
        {
          "output_type": "stream",
          "name": "stdout",
          "text": [
            "ROC-AUC score is:  0.85\n"
          ]
        }
      ]
    },
    {
      "cell_type": "code",
      "source": [
        "# Compute the Matthews correlation coefficient (MCC)\n",
        "from sklearn.metrics import matthews_corrcoef\n",
        "mcc = matthews_corrcoef(y_test_1, prediction_1)\n",
        "print(\"The Matthews correlation coefficinet (MCC) is: \", round(mcc, 3))"
      ],
      "metadata": {
        "id": "nzAtnkKS0Y2Q",
        "colab": {
          "base_uri": "https://localhost:8080/"
        },
        "outputId": "b1f5ef8f-5f64-4baa-f05d-2a7bbaf1b634"
      },
      "execution_count": null,
      "outputs": [
        {
          "output_type": "stream",
          "name": "stdout",
          "text": [
            "The Matthews correlation coefficinet (MCC) is:  0.7\n"
          ]
        }
      ]
    },
    {
      "cell_type": "code",
      "source": [
        "from sklearn.metrics import classification_report\n",
        "print(classification_report(y_test_1, prediction_1))"
      ],
      "metadata": {
        "id": "z8Lm-OpZ0xaj",
        "colab": {
          "base_uri": "https://localhost:8080/"
        },
        "outputId": "4eae926d-52e7-47af-e131-e42310b4f85e"
      },
      "execution_count": null,
      "outputs": [
        {
          "output_type": "stream",
          "name": "stdout",
          "text": [
            "              precision    recall  f1-score   support\n",
            "\n",
            "           0       0.83      0.87      0.85      1936\n",
            "           1       0.87      0.84      0.85      2064\n",
            "\n",
            "    accuracy                           0.85      4000\n",
            "   macro avg       0.85      0.85      0.85      4000\n",
            "weighted avg       0.85      0.85      0.85      4000\n",
            "\n"
          ]
        }
      ]
    },
    {
      "cell_type": "code",
      "source": [
        "# !pip install imblearn"
      ],
      "metadata": {
        "id": "UkGQwhlI4SBa"
      },
      "execution_count": null,
      "outputs": []
    },
    {
      "cell_type": "code",
      "source": [
        "# specificity\n",
        "from imblearn.metrics import specificity_score\n",
        "sp = specificity_score(y_test_1, prediction_1, average='weighted')\n",
        "sp_1 = specificity_score(y_test_1, prediction_1, average='micro')\n",
        "sp_2 = specificity_score(y_test_1, prediction_1, average='macro')"
      ],
      "metadata": {
        "id": "u8O7m9hN4b7B"
      },
      "execution_count": null,
      "outputs": []
    },
    {
      "cell_type": "code",
      "source": [
        "print(f\"Macro specificity: {sp_2}\")\n",
        "print(f\"Micro specificity: {sp_1}\")\n",
        "print(f\"Weighted specificity: {sp}\")"
      ],
      "metadata": {
        "id": "s1zYFCoc5ASf",
        "colab": {
          "base_uri": "https://localhost:8080/"
        },
        "outputId": "8aca3d6f-e678-46ca-af78-c17edb3ba1b7"
      },
      "execution_count": null,
      "outputs": [
        {
          "output_type": "stream",
          "name": "stdout",
          "text": [
            "Macro specificity: 0.8502286341213403\n",
            "Micro specificity: 0.84975\n",
            "Weighted specificity: 0.8507072682426805\n"
          ]
        }
      ]
    }
  ]
}